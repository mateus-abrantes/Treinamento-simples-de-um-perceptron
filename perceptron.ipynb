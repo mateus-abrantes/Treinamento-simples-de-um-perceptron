{
  "nbformat": 4,
  "nbformat_minor": 0,
  "metadata": {
    "colab": {
      "name": "perceptron.ipynb",
      "provenance": [],
      "collapsed_sections": []
    },
    "kernelspec": {
      "name": "python3",
      "display_name": "Python 3"
    }
  },
  "cells": [
    {
      "cell_type": "markdown",
      "metadata": {
        "id": "OEgSayQNBuaZ"
      },
      "source": [
        "# Perceptron \n",
        "\n",
        "Perceptron para classificao de uma operação or em bits"
      ]
    },
    {
      "cell_type": "code",
      "metadata": {
        "id": "1Ido53gjUaie"
      },
      "source": [
        "# Dados iniciais\n",
        "import numpy as np \n",
        "# Base de dados\n",
        "# Classe 0  \n",
        "A = np.array( [0,0,0] ) \n",
        "# Classe 1 \n",
        "B = np.array( [0,1,0]) \n",
        "C = np.array( [1,1,0])\n",
        "D = np.array( [1,0,0])\n",
        "# Pesos iniciais \n",
        "Pesos = np.array( [-0.5,-4,1.5]) \n",
        "# Taxa de aprendizagem \n",
        "eta = 0.4 \n",
        "# Viés \n",
        "bias = 0.5  "
      ],
      "execution_count": 282,
      "outputs": []
    },
    {
      "cell_type": "code",
      "metadata": {
        "id": "t4fKfn8lU7Ja"
      },
      "source": [
        "# Função para a soma ponderada \n",
        "# u = x0*w0 +  x1*w1 + x2*w2 -1*θ \n",
        "# m = x0*w0 +  x1*w1 + x2*w2\n",
        "# u = m -1*θ\n",
        "def somaPonderada(X,W):\n",
        "  bias = 0.5 \n",
        "  m = np.multiply(X,W)\n",
        "  u = np.sum(m) -1*bias\n",
        "  return u "
      ],
      "execution_count": 283,
      "outputs": []
    },
    {
      "cell_type": "code",
      "metadata": {
        "id": "w7WOi5KzXkgd"
      },
      "source": [
        "# Função de ativação \n",
        "# Função Degrau \n",
        "def funcaoAtivacao(u):\n",
        "  if u >= 0:\n",
        "    return 1\n",
        "  else:\n",
        "    return 0"
      ],
      "execution_count": 284,
      "outputs": []
    },
    {
      "cell_type": "code",
      "metadata": {
        "id": "Lh67wy0zbO2-"
      },
      "source": [
        "# Função de saída \n",
        "def saida(X,W):\n",
        "  u = somaPonderada(X,W)\n",
        "  return funcaoAtivacao(u) \n"
      ],
      "execution_count": 285,
      "outputs": []
    },
    {
      "cell_type": "code",
      "metadata": {
        "id": "6iWXanLKX_On"
      },
      "source": [
        "# Função para ajustes dos pesos\n",
        "# Parte cententral do processo de aprendizagem \n",
        "# novo wi  →  wi = wi +  η xi (d - y ) \n",
        "def ajustaPesos(eta,W,X,bias,d,y):\n",
        "  e = d - y \n",
        "  novoW = W + eta*X*e\n",
        "  novoB = bias + eta*(-1)*e \n",
        "  return novoW, novoB  \n"
      ],
      "execution_count": 286,
      "outputs": []
    },
    {
      "cell_type": "markdown",
      "metadata": {
        "id": "qA-B_GxjapSI"
      },
      "source": [
        "# Treinamento "
      ]
    },
    {
      "cell_type": "code",
      "metadata": {
        "colab": {
          "base_uri": "https://localhost:8080/"
        },
        "id": "jyBXUVoKh3dD",
        "outputId": "020f8dc0-59af-4307-a40f-49afc5bb4ab0"
      },
      "source": [
        "i = 0\n",
        "while True:\n",
        "    i = i + 1\n",
        "    # Entrada 000 saída 0 \n",
        "    d1 = 0\n",
        "    y1 = saida(A,Pesos) \n",
        "    # print(y)\n",
        "    # Ajuste dos pesos \n",
        "    Pesos,bias = ajustaPesos(eta,Pesos,A,bias,d1,y1) \n",
        "    # print(Pesos)\n",
        "    # print(bias)  \n",
        "\n",
        "    # Entrada 010 saída 1\n",
        "    d2 = 1\n",
        "    y2 = saida(B,Pesos) \n",
        "    # print(y)\n",
        "    # Ajuste dos pesos \n",
        "    Pesos,bias = ajustaPesos(eta,Pesos,B,bias,d2,y2) \n",
        "    # print(Pesos)\n",
        "    # print(bias) \n",
        "    \n",
        "    # Entrada 110 saída 1\n",
        "    d3 = 1\n",
        "    y3 = saida(C,Pesos) \n",
        "    # print(y)\n",
        "    # Ajuste dos pesos \n",
        "    Pesos,bias = ajustaPesos(eta,Pesos,C,bias,d3,y3) \n",
        "    # print(Pesos)\n",
        "    # print(bias) \n",
        "\n",
        "    # Entrada 100 saída 1\n",
        "    d4 = 1\n",
        "    y4 = saida(D,Pesos) \n",
        "    # print(y)\n",
        "    # Ajuste dos pesos \n",
        "    Pesos,bias = ajustaPesos(eta,Pesos,D,bias,d4,y4) \n",
        "    # print(Pesos)\n",
        "    # print(bias) \n",
        "    if(d1 == y1 and d2 == y2 and d3 == y3 and d4 == y4):\n",
        "        break\n",
        "print(\"num iteration\",i)\n",
        "print(Pesos)\n",
        "print(bias)"
      ],
      "execution_count": 287,
      "outputs": [
        {
          "output_type": "stream",
          "text": [
            "num iteration 9\n",
            "[1.5 0.8 1.5]\n",
            "-4.7\n"
          ],
          "name": "stdout"
        }
      ]
    },
    {
      "cell_type": "markdown",
      "metadata": {
        "id": "3JF0Tv1Qe2ig"
      },
      "source": [
        "# Testes com:\n",
        "     [0, 0, 1]\n",
        "     [0, 1, 0]\n",
        "     [0, 1, 1]\n",
        "     [1, 0, 0]\n",
        "     [1, 0, 1]\n",
        "     [1, 1, 0]\n",
        "     [1, 1, 1]"
      ]
    },
    {
      "cell_type": "code",
      "metadata": {
        "id": "ZymsxG1XXbsH",
        "colab": {
          "base_uri": "https://localhost:8080/"
        },
        "outputId": "6271e9b0-6e01-4294-e147-b741b0235a32"
      },
      "source": [
        "# [0, 0, 0]\n",
        "T = np.array([0, 0, 0]) \n",
        "print(\"Saida para \",T,\" é \", saida(T,Pesos))"
      ],
      "execution_count": 288,
      "outputs": [
        {
          "output_type": "stream",
          "text": [
            "Saida para  [0 0 0]  é  0\n"
          ],
          "name": "stdout"
        }
      ]
    },
    {
      "cell_type": "code",
      "metadata": {
        "colab": {
          "base_uri": "https://localhost:8080/"
        },
        "id": "C-YO1pFX4IZn",
        "outputId": "43c960b0-4380-40e3-d79c-2a2da651328f"
      },
      "source": [
        "# [0, 0, 1]\n",
        "T = np.array([0, 0, 1]) \n",
        "print(\"Saida para \",T,\" é \", saida(T,Pesos))"
      ],
      "execution_count": 289,
      "outputs": [
        {
          "output_type": "stream",
          "text": [
            "Saida para  [0 0 1]  é  1\n"
          ],
          "name": "stdout"
        }
      ]
    },
    {
      "cell_type": "code",
      "metadata": {
        "id": "U_DhNESmfY0a",
        "colab": {
          "base_uri": "https://localhost:8080/"
        },
        "outputId": "ff661655-8daf-4e18-d71c-c24358658530"
      },
      "source": [
        "# [0, 1, 0] \n",
        "T = np.array([0, 1, 0]) \n",
        "print(\"Saida para \",T,\" é \", saida(T,Pesos))"
      ],
      "execution_count": 290,
      "outputs": [
        {
          "output_type": "stream",
          "text": [
            "Saida para  [0 1 0]  é  1\n"
          ],
          "name": "stdout"
        }
      ]
    },
    {
      "cell_type": "code",
      "metadata": {
        "colab": {
          "base_uri": "https://localhost:8080/"
        },
        "id": "cFHfl5X81dmW",
        "outputId": "6335ae02-d995-4e75-e8cf-6ff569b4fe5c"
      },
      "source": [
        "# [0, 1, 1]\n",
        "T = np.array([0, 1, 1]) \n",
        "print(\"Saida para \",T,\" é \", saida(T,Pesos))"
      ],
      "execution_count": 291,
      "outputs": [
        {
          "output_type": "stream",
          "text": [
            "Saida para  [0 1 1]  é  1\n"
          ],
          "name": "stdout"
        }
      ]
    },
    {
      "cell_type": "code",
      "metadata": {
        "colab": {
          "base_uri": "https://localhost:8080/"
        },
        "id": "oPLyJvqR1d80",
        "outputId": "0b563c2c-b8f8-4b00-9ada-46562e88dd07"
      },
      "source": [
        "# [1, 0, 0] \n",
        "T = np.array([1, 0, 0]) \n",
        "print(\"Saida para \",T,\" é \", saida(T,Pesos))"
      ],
      "execution_count": 292,
      "outputs": [
        {
          "output_type": "stream",
          "text": [
            "Saida para  [1 0 0]  é  1\n"
          ],
          "name": "stdout"
        }
      ]
    },
    {
      "cell_type": "code",
      "metadata": {
        "colab": {
          "base_uri": "https://localhost:8080/"
        },
        "id": "IZ4XeXog1eQx",
        "outputId": "dad16da5-5259-41fb-d54f-18f075e58edb"
      },
      "source": [
        "# [1, 0, 1] \n",
        "T = np.array([1, 0, 1]) \n",
        "print(\"Saida para \",T,\" é \", saida(T,Pesos))"
      ],
      "execution_count": 293,
      "outputs": [
        {
          "output_type": "stream",
          "text": [
            "Saida para  [1 0 1]  é  1\n"
          ],
          "name": "stdout"
        }
      ]
    },
    {
      "cell_type": "code",
      "metadata": {
        "colab": {
          "base_uri": "https://localhost:8080/"
        },
        "id": "_3hNtgAb1les",
        "outputId": "5a8bb9a9-105e-4bb9-fb60-81bda1c52ded"
      },
      "source": [
        "# [1, 1, 0] \n",
        "T = np.array([1, 1, 0]) \n",
        "print(\"Saida para \",T,\" é \", saida(T,Pesos))"
      ],
      "execution_count": 294,
      "outputs": [
        {
          "output_type": "stream",
          "text": [
            "Saida para  [1 1 0]  é  1\n"
          ],
          "name": "stdout"
        }
      ]
    },
    {
      "cell_type": "code",
      "metadata": {
        "colab": {
          "base_uri": "https://localhost:8080/"
        },
        "id": "Yy72X-a81lw9",
        "outputId": "8292592a-86f8-45de-811c-aff63c44874b"
      },
      "source": [
        "# [1, 1, 1] \n",
        "T = np.array([1, 1, 1]) \n",
        "print(\"Saida para \",T,\" é \", saida(T,Pesos))"
      ],
      "execution_count": 295,
      "outputs": [
        {
          "output_type": "stream",
          "text": [
            "Saida para  [1 1 1]  é  1\n"
          ],
          "name": "stdout"
        }
      ]
    },
    {
      "cell_type": "markdown",
      "metadata": {
        "id": "4jTefZLg5Abs"
      },
      "source": [
        "# Resultados\n",
        "Obtivemos a classifição de uma operacao or entre bits utilizando o perceptron, conseguimos obter a classicação de forma satisfatorio. Levando em conta o codigo foi necessario adicionar mais exemplos para o treinamento visto que se trata do uma tecnica de aprendizagem supervisionado e que apenas com duas instancias não era possivel o perceptro generalizar de forma eficiente, visto que ele atribuia zero em outras condições em que o resultado deveria ser 1, para resolver esse problemas usamos justamento mais casos para o treinamento para obtermos o resultado esperado."
      ]
    }
  ]
}